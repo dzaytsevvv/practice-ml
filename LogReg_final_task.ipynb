{
  "cells": [
    {
      "cell_type": "markdown",
      "metadata": {
        "id": "FtRSA6FevXlO"
      },
      "source": [
        "# Логистическая регрессия. Практика"
      ]
    },
    {
      "cell_type": "markdown",
      "metadata": {
        "id": "Q7ytv2GMjpGZ"
      },
      "source": [
        "В этом задании вам предлагается спрогнозировать, купит клиент велосипед или нет, обучив логистическую регрессию."
      ]
    },
    {
      "cell_type": "code",
      "execution_count": 271,
      "metadata": {
        "id": "aPDB2wP8jndz"
      },
      "outputs": [
        {
          "data": {
            "text/plain": [
              "(1000, 13)"
            ]
          },
          "execution_count": 271,
          "metadata": {},
          "output_type": "execute_result"
        }
      ],
      "source": [
        "# подключим библиотеки\n",
        "import matplotlib.pyplot as plt\n",
        "import numpy as np\n",
        "import pandas as pd\n",
        "\n",
        "import warnings\n",
        "warnings.filterwarnings(\"ignore\")\n",
        "\n",
        "# считаем данные\n",
        "data = pd.read_csv('https://raw.githubusercontent.com/evgpat/edu_stepik_practical_ml/main/datasets/bike_buyers_clean.csv')\n",
        "\n",
        "# выводим первые 5 строк датафрейма\n",
        "data.head(5)\n",
        "\n",
        "# смотрим размер датафрейма\n",
        "data.shape"
      ]
    },
    {
      "cell_type": "code",
      "execution_count": 272,
      "metadata": {
        "id": "7Zw7RmtAjn8O"
      },
      "outputs": [
        {
          "data": {
            "text/html": [
              "<div>\n",
              "<style scoped>\n",
              "    .dataframe tbody tr th:only-of-type {\n",
              "        vertical-align: middle;\n",
              "    }\n",
              "\n",
              "    .dataframe tbody tr th {\n",
              "        vertical-align: top;\n",
              "    }\n",
              "\n",
              "    .dataframe thead th {\n",
              "        text-align: right;\n",
              "    }\n",
              "</style>\n",
              "<table border=\"1\" class=\"dataframe\">\n",
              "  <thead>\n",
              "    <tr style=\"text-align: right;\">\n",
              "      <th></th>\n",
              "      <th>Marital Status</th>\n",
              "      <th>Gender</th>\n",
              "      <th>Education</th>\n",
              "      <th>Occupation</th>\n",
              "      <th>Home Owner</th>\n",
              "      <th>Commute Distance</th>\n",
              "      <th>Region</th>\n",
              "      <th>Purchased Bike</th>\n",
              "    </tr>\n",
              "  </thead>\n",
              "  <tbody>\n",
              "    <tr>\n",
              "      <th>count</th>\n",
              "      <td>1000</td>\n",
              "      <td>1000</td>\n",
              "      <td>1000</td>\n",
              "      <td>1000</td>\n",
              "      <td>1000</td>\n",
              "      <td>1000</td>\n",
              "      <td>1000</td>\n",
              "      <td>1000</td>\n",
              "    </tr>\n",
              "    <tr>\n",
              "      <th>unique</th>\n",
              "      <td>2</td>\n",
              "      <td>2</td>\n",
              "      <td>5</td>\n",
              "      <td>5</td>\n",
              "      <td>2</td>\n",
              "      <td>5</td>\n",
              "      <td>3</td>\n",
              "      <td>2</td>\n",
              "    </tr>\n",
              "    <tr>\n",
              "      <th>top</th>\n",
              "      <td>Married</td>\n",
              "      <td>Male</td>\n",
              "      <td>Bachelors</td>\n",
              "      <td>Professional</td>\n",
              "      <td>Yes</td>\n",
              "      <td>0-1 Miles</td>\n",
              "      <td>North America</td>\n",
              "      <td>No</td>\n",
              "    </tr>\n",
              "    <tr>\n",
              "      <th>freq</th>\n",
              "      <td>539</td>\n",
              "      <td>509</td>\n",
              "      <td>306</td>\n",
              "      <td>276</td>\n",
              "      <td>685</td>\n",
              "      <td>366</td>\n",
              "      <td>508</td>\n",
              "      <td>519</td>\n",
              "    </tr>\n",
              "  </tbody>\n",
              "</table>\n",
              "</div>"
            ],
            "text/plain": [
              "       Marital Status Gender  Education    Occupation Home Owner  \\\n",
              "count            1000   1000       1000          1000       1000   \n",
              "unique              2      2          5             5          2   \n",
              "top           Married   Male  Bachelors  Professional        Yes   \n",
              "freq              539    509        306           276        685   \n",
              "\n",
              "       Commute Distance         Region Purchased Bike  \n",
              "count              1000           1000           1000  \n",
              "unique                5              3              2  \n",
              "top           0-1 Miles  North America             No  \n",
              "freq                366            508            519  "
            ]
          },
          "execution_count": 272,
          "metadata": {},
          "output_type": "execute_result"
        }
      ],
      "source": [
        "# Выведите статистики по категориальным признакам\n",
        "cat_stats = data.describe(include='object')\n",
        "cat_stats"
      ]
    },
    {
      "cell_type": "markdown",
      "metadata": {
        "id": "HbnaQJxw2mHQ"
      },
      "source": [
        "Выведите статистики по категориальным признакам, чтобы посмотреть, сколько категорий в каждом категориальном (нечисловом) признаке.\n",
        "\n",
        "Для этого можно воспользоваться методом `describe` из библиотеки pandas со значением параметра `include = 'object'`."
      ]
    },
    {
      "cell_type": "markdown",
      "metadata": {
        "id": "j1hhZ95gGt-w"
      },
      "source": [
        "**Вопрос:** в каком категориальном признаке встречаются три различных значения?"
      ]
    },
    {
      "cell_type": "code",
      "execution_count": 273,
      "metadata": {
        "id": "_yYv_Ma18A9A"
      },
      "outputs": [
        {
          "name": "stdout",
          "output_type": "stream",
          "text": [
            "Закодированные бинарные столбцы: ['Marital Status', 'Gender', 'Home Owner']\n"
          ]
        }
      ],
      "source": [
        "# Закодируйте все категориальные столбцы с двумя категориями\n",
        "binary_columns = []\n",
        "for col in data.select_dtypes(include='object').columns:\n",
        "    if data[col].nunique() == 2 and col != \"Purchased Bike\":\n",
        "        binary_columns.append(col)\n",
        "        # Самая частая категория -> 1, другая -> 0\n",
        "        most_frequent = data[col].mode()[0]\n",
        "        data[col] = (data[col] == most_frequent).astype(int)\n",
        "\n",
        "print(\"Закодированные бинарные столбцы:\", binary_columns)"
      ]
    },
    {
      "cell_type": "markdown",
      "metadata": {
        "id": "qdDV_Cys9PAs"
      },
      "source": [
        "Удалите остальные категориальные столбцы.\n",
        "\n",
        "**Вопрос:** сколько категориальных столбцов вы удалили?"
      ]
    },
    {
      "cell_type": "code",
      "execution_count": 274,
      "metadata": {
        "id": "N2sYdyjw9R6I"
      },
      "outputs": [
        {
          "name": "stdout",
          "output_type": "stream",
          "text": [
            "Удаленные категориальные столбцы: ['Education', 'Occupation', 'Commute Distance', 'Region']\n",
            "Количество удаленных столбцов: 4\n"
          ]
        }
      ],
      "source": [
        "# Удалите остальные категориальные столбцы\n",
        "non_binary_cat_cols = []\n",
        "for col in data.select_dtypes(include='object').columns:\n",
        "    if data[col].nunique() > 2:\n",
        "        non_binary_cat_cols.append(col)\n",
        "\n",
        "data = data.drop(columns=non_binary_cat_cols)\n",
        "print(\"Удаленные категориальные столбцы:\", non_binary_cat_cols)\n",
        "print(\"Количество удаленных столбцов:\", len(non_binary_cat_cols))"
      ]
    },
    {
      "cell_type": "markdown",
      "metadata": {
        "id": "0hjsUxpx9cAq"
      },
      "source": [
        "Удалите столбец `ID`, так как он по сути нечисловой."
      ]
    },
    {
      "cell_type": "code",
      "execution_count": 275,
      "metadata": {
        "id": "tbqbqjuE9gKV"
      },
      "outputs": [],
      "source": [
        "# Удалите столбец ID\n",
        "data = data.drop(columns=['ID'])"
      ]
    },
    {
      "cell_type": "markdown",
      "metadata": {
        "id": "4QjeoiTJ9j1u"
      },
      "source": [
        "Сформируйте матрицу объект-признак `X` и вектор `y` с целевой переменной.  \n",
        "Целевая переменная - это последний столбец, `Purchased Bike`."
      ]
    },
    {
      "cell_type": "code",
      "execution_count": 276,
      "metadata": {
        "id": "jYY7sZbu9_wM"
      },
      "outputs": [],
      "source": [
        "# Сформируйте матрицу объект-признак X и вектор y\n",
        "X = data.drop(columns=['Purchased Bike'])\n",
        "y = data['Purchased Bike']"
      ]
    },
    {
      "cell_type": "markdown",
      "metadata": {
        "id": "Cwxl-CUX-452"
      },
      "source": [
        "Разбейте данные на тренировочную и тестовую часть (`Xtrain`, `Xtest`, `ytrain`, `ytest`), в тест отправьте 30% данных.  \n",
        "Зафиксируйте `random_state = 42`."
      ]
    },
    {
      "cell_type": "code",
      "execution_count": 300,
      "metadata": {
        "id": "fquWQf8e--Zn"
      },
      "outputs": [],
      "source": [
        "# Разбейте данные на тренировочную и тестовую часть\n",
        "from sklearn.model_selection import train_test_split\n",
        "\n",
        "Xtrain, Xtest, ytrain, ytest = train_test_split(X, y, test_size=0.3, random_state=42)"
      ]
    },
    {
      "cell_type": "markdown",
      "metadata": {
        "id": "6-Ki4tjHG6pt"
      },
      "source": [
        "**Вопрос:** сколько объектов в матрице `Xtrain`?"
      ]
    },
    {
      "cell_type": "code",
      "execution_count": 278,
      "metadata": {
        "id": "XFIuu2b9G92Q"
      },
      "outputs": [
        {
          "data": {
            "text/plain": [
              "700"
            ]
          },
          "execution_count": 278,
          "metadata": {},
          "output_type": "execute_result"
        }
      ],
      "source": [
        "Xtrain.shape[0]"
      ]
    },
    {
      "cell_type": "markdown",
      "metadata": {
        "id": "ZBdAk3RM-FQ4"
      },
      "source": [
        "Почти всё готово для обучения модели!\n",
        "\n",
        "Осталось отмасштабировать матрицу `X`, так как линейные модели чувствительны к масштабу данных.\n",
        "\n",
        "*  Обучите на тренировочной матрице (`Xtrain`) `MinMaxScaler` из библиотеки `sklearn.preprocessing`\n",
        "*  Примените масштабирование и к `Xtrain`, и к `Xtest`\n",
        "*  Переведите полученные после масштабирования `np.array` обратно в pandas `dataframe`.\n",
        "\n",
        "Полученные масштабированные матрицы назовите, как и раньше, `Xtrain` и `Xtest`."
      ]
    },
    {
      "cell_type": "code",
      "execution_count": 279,
      "metadata": {
        "id": "sxwLdpAK-oJp"
      },
      "outputs": [],
      "source": [
        "# Масштабирование данных\n",
        "from sklearn.preprocessing import MinMaxScaler\n",
        "\n",
        "scaler = MinMaxScaler()\n",
        "Xtrain = pd.DataFrame(scaler.fit_transform(Xtrain), columns=Xtrain.columns)\n",
        "Xtest = pd.DataFrame(scaler.transform(Xtest), columns=Xtest.columns)"
      ]
    },
    {
      "cell_type": "markdown",
      "metadata": {
        "id": "9g3cyUKPqgqu"
      },
      "source": [
        "Теперь обучите логистическую регрессию на тренировочных данных"
      ]
    },
    {
      "cell_type": "code",
      "execution_count": 280,
      "metadata": {
        "id": "efySFKgej1_1"
      },
      "outputs": [
        {
          "data": {
            "text/html": [
              "<style>#sk-container-id-15 {\n",
              "  /* Definition of color scheme common for light and dark mode */\n",
              "  --sklearn-color-text: #000;\n",
              "  --sklearn-color-text-muted: #666;\n",
              "  --sklearn-color-line: gray;\n",
              "  /* Definition of color scheme for unfitted estimators */\n",
              "  --sklearn-color-unfitted-level-0: #fff5e6;\n",
              "  --sklearn-color-unfitted-level-1: #f6e4d2;\n",
              "  --sklearn-color-unfitted-level-2: #ffe0b3;\n",
              "  --sklearn-color-unfitted-level-3: chocolate;\n",
              "  /* Definition of color scheme for fitted estimators */\n",
              "  --sklearn-color-fitted-level-0: #f0f8ff;\n",
              "  --sklearn-color-fitted-level-1: #d4ebff;\n",
              "  --sklearn-color-fitted-level-2: #b3dbfd;\n",
              "  --sklearn-color-fitted-level-3: cornflowerblue;\n",
              "\n",
              "  /* Specific color for light theme */\n",
              "  --sklearn-color-text-on-default-background: var(--sg-text-color, var(--theme-code-foreground, var(--jp-content-font-color1, black)));\n",
              "  --sklearn-color-background: var(--sg-background-color, var(--theme-background, var(--jp-layout-color0, white)));\n",
              "  --sklearn-color-border-box: var(--sg-text-color, var(--theme-code-foreground, var(--jp-content-font-color1, black)));\n",
              "  --sklearn-color-icon: #696969;\n",
              "\n",
              "  @media (prefers-color-scheme: dark) {\n",
              "    /* Redefinition of color scheme for dark theme */\n",
              "    --sklearn-color-text-on-default-background: var(--sg-text-color, var(--theme-code-foreground, var(--jp-content-font-color1, white)));\n",
              "    --sklearn-color-background: var(--sg-background-color, var(--theme-background, var(--jp-layout-color0, #111)));\n",
              "    --sklearn-color-border-box: var(--sg-text-color, var(--theme-code-foreground, var(--jp-content-font-color1, white)));\n",
              "    --sklearn-color-icon: #878787;\n",
              "  }\n",
              "}\n",
              "\n",
              "#sk-container-id-15 {\n",
              "  color: var(--sklearn-color-text);\n",
              "}\n",
              "\n",
              "#sk-container-id-15 pre {\n",
              "  padding: 0;\n",
              "}\n",
              "\n",
              "#sk-container-id-15 input.sk-hidden--visually {\n",
              "  border: 0;\n",
              "  clip: rect(1px 1px 1px 1px);\n",
              "  clip: rect(1px, 1px, 1px, 1px);\n",
              "  height: 1px;\n",
              "  margin: -1px;\n",
              "  overflow: hidden;\n",
              "  padding: 0;\n",
              "  position: absolute;\n",
              "  width: 1px;\n",
              "}\n",
              "\n",
              "#sk-container-id-15 div.sk-dashed-wrapped {\n",
              "  border: 1px dashed var(--sklearn-color-line);\n",
              "  margin: 0 0.4em 0.5em 0.4em;\n",
              "  box-sizing: border-box;\n",
              "  padding-bottom: 0.4em;\n",
              "  background-color: var(--sklearn-color-background);\n",
              "}\n",
              "\n",
              "#sk-container-id-15 div.sk-container {\n",
              "  /* jupyter's `normalize.less` sets `[hidden] { display: none; }`\n",
              "     but bootstrap.min.css set `[hidden] { display: none !important; }`\n",
              "     so we also need the `!important` here to be able to override the\n",
              "     default hidden behavior on the sphinx rendered scikit-learn.org.\n",
              "     See: https://github.com/scikit-learn/scikit-learn/issues/21755 */\n",
              "  display: inline-block !important;\n",
              "  position: relative;\n",
              "}\n",
              "\n",
              "#sk-container-id-15 div.sk-text-repr-fallback {\n",
              "  display: none;\n",
              "}\n",
              "\n",
              "div.sk-parallel-item,\n",
              "div.sk-serial,\n",
              "div.sk-item {\n",
              "  /* draw centered vertical line to link estimators */\n",
              "  background-image: linear-gradient(var(--sklearn-color-text-on-default-background), var(--sklearn-color-text-on-default-background));\n",
              "  background-size: 2px 100%;\n",
              "  background-repeat: no-repeat;\n",
              "  background-position: center center;\n",
              "}\n",
              "\n",
              "/* Parallel-specific style estimator block */\n",
              "\n",
              "#sk-container-id-15 div.sk-parallel-item::after {\n",
              "  content: \"\";\n",
              "  width: 100%;\n",
              "  border-bottom: 2px solid var(--sklearn-color-text-on-default-background);\n",
              "  flex-grow: 1;\n",
              "}\n",
              "\n",
              "#sk-container-id-15 div.sk-parallel {\n",
              "  display: flex;\n",
              "  align-items: stretch;\n",
              "  justify-content: center;\n",
              "  background-color: var(--sklearn-color-background);\n",
              "  position: relative;\n",
              "}\n",
              "\n",
              "#sk-container-id-15 div.sk-parallel-item {\n",
              "  display: flex;\n",
              "  flex-direction: column;\n",
              "}\n",
              "\n",
              "#sk-container-id-15 div.sk-parallel-item:first-child::after {\n",
              "  align-self: flex-end;\n",
              "  width: 50%;\n",
              "}\n",
              "\n",
              "#sk-container-id-15 div.sk-parallel-item:last-child::after {\n",
              "  align-self: flex-start;\n",
              "  width: 50%;\n",
              "}\n",
              "\n",
              "#sk-container-id-15 div.sk-parallel-item:only-child::after {\n",
              "  width: 0;\n",
              "}\n",
              "\n",
              "/* Serial-specific style estimator block */\n",
              "\n",
              "#sk-container-id-15 div.sk-serial {\n",
              "  display: flex;\n",
              "  flex-direction: column;\n",
              "  align-items: center;\n",
              "  background-color: var(--sklearn-color-background);\n",
              "  padding-right: 1em;\n",
              "  padding-left: 1em;\n",
              "}\n",
              "\n",
              "\n",
              "/* Toggleable style: style used for estimator/Pipeline/ColumnTransformer box that is\n",
              "clickable and can be expanded/collapsed.\n",
              "- Pipeline and ColumnTransformer use this feature and define the default style\n",
              "- Estimators will overwrite some part of the style using the `sk-estimator` class\n",
              "*/\n",
              "\n",
              "/* Pipeline and ColumnTransformer style (default) */\n",
              "\n",
              "#sk-container-id-15 div.sk-toggleable {\n",
              "  /* Default theme specific background. It is overwritten whether we have a\n",
              "  specific estimator or a Pipeline/ColumnTransformer */\n",
              "  background-color: var(--sklearn-color-background);\n",
              "}\n",
              "\n",
              "/* Toggleable label */\n",
              "#sk-container-id-15 label.sk-toggleable__label {\n",
              "  cursor: pointer;\n",
              "  display: flex;\n",
              "  width: 100%;\n",
              "  margin-bottom: 0;\n",
              "  padding: 0.5em;\n",
              "  box-sizing: border-box;\n",
              "  text-align: center;\n",
              "  align-items: start;\n",
              "  justify-content: space-between;\n",
              "  gap: 0.5em;\n",
              "}\n",
              "\n",
              "#sk-container-id-15 label.sk-toggleable__label .caption {\n",
              "  font-size: 0.6rem;\n",
              "  font-weight: lighter;\n",
              "  color: var(--sklearn-color-text-muted);\n",
              "}\n",
              "\n",
              "#sk-container-id-15 label.sk-toggleable__label-arrow:before {\n",
              "  /* Arrow on the left of the label */\n",
              "  content: \"▸\";\n",
              "  float: left;\n",
              "  margin-right: 0.25em;\n",
              "  color: var(--sklearn-color-icon);\n",
              "}\n",
              "\n",
              "#sk-container-id-15 label.sk-toggleable__label-arrow:hover:before {\n",
              "  color: var(--sklearn-color-text);\n",
              "}\n",
              "\n",
              "/* Toggleable content - dropdown */\n",
              "\n",
              "#sk-container-id-15 div.sk-toggleable__content {\n",
              "  display: none;\n",
              "  text-align: left;\n",
              "  /* unfitted */\n",
              "  background-color: var(--sklearn-color-unfitted-level-0);\n",
              "}\n",
              "\n",
              "#sk-container-id-15 div.sk-toggleable__content.fitted {\n",
              "  /* fitted */\n",
              "  background-color: var(--sklearn-color-fitted-level-0);\n",
              "}\n",
              "\n",
              "#sk-container-id-15 div.sk-toggleable__content pre {\n",
              "  margin: 0.2em;\n",
              "  border-radius: 0.25em;\n",
              "  color: var(--sklearn-color-text);\n",
              "  /* unfitted */\n",
              "  background-color: var(--sklearn-color-unfitted-level-0);\n",
              "}\n",
              "\n",
              "#sk-container-id-15 div.sk-toggleable__content.fitted pre {\n",
              "  /* unfitted */\n",
              "  background-color: var(--sklearn-color-fitted-level-0);\n",
              "}\n",
              "\n",
              "#sk-container-id-15 input.sk-toggleable__control:checked~div.sk-toggleable__content {\n",
              "  /* Expand drop-down */\n",
              "  display: block;\n",
              "  width: 100%;\n",
              "  overflow: visible;\n",
              "}\n",
              "\n",
              "#sk-container-id-15 input.sk-toggleable__control:checked~label.sk-toggleable__label-arrow:before {\n",
              "  content: \"▾\";\n",
              "}\n",
              "\n",
              "/* Pipeline/ColumnTransformer-specific style */\n",
              "\n",
              "#sk-container-id-15 div.sk-label input.sk-toggleable__control:checked~label.sk-toggleable__label {\n",
              "  color: var(--sklearn-color-text);\n",
              "  background-color: var(--sklearn-color-unfitted-level-2);\n",
              "}\n",
              "\n",
              "#sk-container-id-15 div.sk-label.fitted input.sk-toggleable__control:checked~label.sk-toggleable__label {\n",
              "  background-color: var(--sklearn-color-fitted-level-2);\n",
              "}\n",
              "\n",
              "/* Estimator-specific style */\n",
              "\n",
              "/* Colorize estimator box */\n",
              "#sk-container-id-15 div.sk-estimator input.sk-toggleable__control:checked~label.sk-toggleable__label {\n",
              "  /* unfitted */\n",
              "  background-color: var(--sklearn-color-unfitted-level-2);\n",
              "}\n",
              "\n",
              "#sk-container-id-15 div.sk-estimator.fitted input.sk-toggleable__control:checked~label.sk-toggleable__label {\n",
              "  /* fitted */\n",
              "  background-color: var(--sklearn-color-fitted-level-2);\n",
              "}\n",
              "\n",
              "#sk-container-id-15 div.sk-label label.sk-toggleable__label,\n",
              "#sk-container-id-15 div.sk-label label {\n",
              "  /* The background is the default theme color */\n",
              "  color: var(--sklearn-color-text-on-default-background);\n",
              "}\n",
              "\n",
              "/* On hover, darken the color of the background */\n",
              "#sk-container-id-15 div.sk-label:hover label.sk-toggleable__label {\n",
              "  color: var(--sklearn-color-text);\n",
              "  background-color: var(--sklearn-color-unfitted-level-2);\n",
              "}\n",
              "\n",
              "/* Label box, darken color on hover, fitted */\n",
              "#sk-container-id-15 div.sk-label.fitted:hover label.sk-toggleable__label.fitted {\n",
              "  color: var(--sklearn-color-text);\n",
              "  background-color: var(--sklearn-color-fitted-level-2);\n",
              "}\n",
              "\n",
              "/* Estimator label */\n",
              "\n",
              "#sk-container-id-15 div.sk-label label {\n",
              "  font-family: monospace;\n",
              "  font-weight: bold;\n",
              "  display: inline-block;\n",
              "  line-height: 1.2em;\n",
              "}\n",
              "\n",
              "#sk-container-id-15 div.sk-label-container {\n",
              "  text-align: center;\n",
              "}\n",
              "\n",
              "/* Estimator-specific */\n",
              "#sk-container-id-15 div.sk-estimator {\n",
              "  font-family: monospace;\n",
              "  border: 1px dotted var(--sklearn-color-border-box);\n",
              "  border-radius: 0.25em;\n",
              "  box-sizing: border-box;\n",
              "  margin-bottom: 0.5em;\n",
              "  /* unfitted */\n",
              "  background-color: var(--sklearn-color-unfitted-level-0);\n",
              "}\n",
              "\n",
              "#sk-container-id-15 div.sk-estimator.fitted {\n",
              "  /* fitted */\n",
              "  background-color: var(--sklearn-color-fitted-level-0);\n",
              "}\n",
              "\n",
              "/* on hover */\n",
              "#sk-container-id-15 div.sk-estimator:hover {\n",
              "  /* unfitted */\n",
              "  background-color: var(--sklearn-color-unfitted-level-2);\n",
              "}\n",
              "\n",
              "#sk-container-id-15 div.sk-estimator.fitted:hover {\n",
              "  /* fitted */\n",
              "  background-color: var(--sklearn-color-fitted-level-2);\n",
              "}\n",
              "\n",
              "/* Specification for estimator info (e.g. \"i\" and \"?\") */\n",
              "\n",
              "/* Common style for \"i\" and \"?\" */\n",
              "\n",
              ".sk-estimator-doc-link,\n",
              "a:link.sk-estimator-doc-link,\n",
              "a:visited.sk-estimator-doc-link {\n",
              "  float: right;\n",
              "  font-size: smaller;\n",
              "  line-height: 1em;\n",
              "  font-family: monospace;\n",
              "  background-color: var(--sklearn-color-background);\n",
              "  border-radius: 1em;\n",
              "  height: 1em;\n",
              "  width: 1em;\n",
              "  text-decoration: none !important;\n",
              "  margin-left: 0.5em;\n",
              "  text-align: center;\n",
              "  /* unfitted */\n",
              "  border: var(--sklearn-color-unfitted-level-1) 1pt solid;\n",
              "  color: var(--sklearn-color-unfitted-level-1);\n",
              "}\n",
              "\n",
              ".sk-estimator-doc-link.fitted,\n",
              "a:link.sk-estimator-doc-link.fitted,\n",
              "a:visited.sk-estimator-doc-link.fitted {\n",
              "  /* fitted */\n",
              "  border: var(--sklearn-color-fitted-level-1) 1pt solid;\n",
              "  color: var(--sklearn-color-fitted-level-1);\n",
              "}\n",
              "\n",
              "/* On hover */\n",
              "div.sk-estimator:hover .sk-estimator-doc-link:hover,\n",
              ".sk-estimator-doc-link:hover,\n",
              "div.sk-label-container:hover .sk-estimator-doc-link:hover,\n",
              ".sk-estimator-doc-link:hover {\n",
              "  /* unfitted */\n",
              "  background-color: var(--sklearn-color-unfitted-level-3);\n",
              "  color: var(--sklearn-color-background);\n",
              "  text-decoration: none;\n",
              "}\n",
              "\n",
              "div.sk-estimator.fitted:hover .sk-estimator-doc-link.fitted:hover,\n",
              ".sk-estimator-doc-link.fitted:hover,\n",
              "div.sk-label-container:hover .sk-estimator-doc-link.fitted:hover,\n",
              ".sk-estimator-doc-link.fitted:hover {\n",
              "  /* fitted */\n",
              "  background-color: var(--sklearn-color-fitted-level-3);\n",
              "  color: var(--sklearn-color-background);\n",
              "  text-decoration: none;\n",
              "}\n",
              "\n",
              "/* Span, style for the box shown on hovering the info icon */\n",
              ".sk-estimator-doc-link span {\n",
              "  display: none;\n",
              "  z-index: 9999;\n",
              "  position: relative;\n",
              "  font-weight: normal;\n",
              "  right: .2ex;\n",
              "  padding: .5ex;\n",
              "  margin: .5ex;\n",
              "  width: min-content;\n",
              "  min-width: 20ex;\n",
              "  max-width: 50ex;\n",
              "  color: var(--sklearn-color-text);\n",
              "  box-shadow: 2pt 2pt 4pt #999;\n",
              "  /* unfitted */\n",
              "  background: var(--sklearn-color-unfitted-level-0);\n",
              "  border: .5pt solid var(--sklearn-color-unfitted-level-3);\n",
              "}\n",
              "\n",
              ".sk-estimator-doc-link.fitted span {\n",
              "  /* fitted */\n",
              "  background: var(--sklearn-color-fitted-level-0);\n",
              "  border: var(--sklearn-color-fitted-level-3);\n",
              "}\n",
              "\n",
              ".sk-estimator-doc-link:hover span {\n",
              "  display: block;\n",
              "}\n",
              "\n",
              "/* \"?\"-specific style due to the `<a>` HTML tag */\n",
              "\n",
              "#sk-container-id-15 a.estimator_doc_link {\n",
              "  float: right;\n",
              "  font-size: 1rem;\n",
              "  line-height: 1em;\n",
              "  font-family: monospace;\n",
              "  background-color: var(--sklearn-color-background);\n",
              "  border-radius: 1rem;\n",
              "  height: 1rem;\n",
              "  width: 1rem;\n",
              "  text-decoration: none;\n",
              "  /* unfitted */\n",
              "  color: var(--sklearn-color-unfitted-level-1);\n",
              "  border: var(--sklearn-color-unfitted-level-1) 1pt solid;\n",
              "}\n",
              "\n",
              "#sk-container-id-15 a.estimator_doc_link.fitted {\n",
              "  /* fitted */\n",
              "  border: var(--sklearn-color-fitted-level-1) 1pt solid;\n",
              "  color: var(--sklearn-color-fitted-level-1);\n",
              "}\n",
              "\n",
              "/* On hover */\n",
              "#sk-container-id-15 a.estimator_doc_link:hover {\n",
              "  /* unfitted */\n",
              "  background-color: var(--sklearn-color-unfitted-level-3);\n",
              "  color: var(--sklearn-color-background);\n",
              "  text-decoration: none;\n",
              "}\n",
              "\n",
              "#sk-container-id-15 a.estimator_doc_link.fitted:hover {\n",
              "  /* fitted */\n",
              "  background-color: var(--sklearn-color-fitted-level-3);\n",
              "}\n",
              "\n",
              ".estimator-table summary {\n",
              "    padding: .5rem;\n",
              "    font-family: monospace;\n",
              "    cursor: pointer;\n",
              "}\n",
              "\n",
              ".estimator-table details[open] {\n",
              "    padding-left: 0.1rem;\n",
              "    padding-right: 0.1rem;\n",
              "    padding-bottom: 0.3rem;\n",
              "}\n",
              "\n",
              ".estimator-table .parameters-table {\n",
              "    margin-left: auto !important;\n",
              "    margin-right: auto !important;\n",
              "}\n",
              "\n",
              ".estimator-table .parameters-table tr:nth-child(odd) {\n",
              "    background-color: #fff;\n",
              "}\n",
              "\n",
              ".estimator-table .parameters-table tr:nth-child(even) {\n",
              "    background-color: #f6f6f6;\n",
              "}\n",
              "\n",
              ".estimator-table .parameters-table tr:hover {\n",
              "    background-color: #e0e0e0;\n",
              "}\n",
              "\n",
              ".estimator-table table td {\n",
              "    border: 1px solid rgba(106, 105, 104, 0.232);\n",
              "}\n",
              "\n",
              ".user-set td {\n",
              "    color:rgb(255, 94, 0);\n",
              "    text-align: left;\n",
              "}\n",
              "\n",
              ".user-set td.value pre {\n",
              "    color:rgb(255, 94, 0) !important;\n",
              "    background-color: transparent !important;\n",
              "}\n",
              "\n",
              ".default td {\n",
              "    color: black;\n",
              "    text-align: left;\n",
              "}\n",
              "\n",
              ".user-set td i,\n",
              ".default td i {\n",
              "    color: black;\n",
              "}\n",
              "\n",
              ".copy-paste-icon {\n",
              "    background-image: url(data:image/svg+xml;base64,PHN2ZyB4bWxucz0iaHR0cDovL3d3dy53My5vcmcvMjAwMC9zdmciIHZpZXdCb3g9IjAgMCA0NDggNTEyIj48IS0tIUZvbnQgQXdlc29tZSBGcmVlIDYuNy4yIGJ5IEBmb250YXdlc29tZSAtIGh0dHBzOi8vZm9udGF3ZXNvbWUuY29tIExpY2Vuc2UgLSBodHRwczovL2ZvbnRhd2Vzb21lLmNvbS9saWNlbnNlL2ZyZWUgQ29weXJpZ2h0IDIwMjUgRm9udGljb25zLCBJbmMuLS0+PHBhdGggZD0iTTIwOCAwTDMzMi4xIDBjMTIuNyAwIDI0LjkgNS4xIDMzLjkgMTQuMWw2Ny45IDY3LjljOSA5IDE0LjEgMjEuMiAxNC4xIDMzLjlMNDQ4IDMzNmMwIDI2LjUtMjEuNSA0OC00OCA0OGwtMTkyIDBjLTI2LjUgMC00OC0yMS41LTQ4LTQ4bDAtMjg4YzAtMjYuNSAyMS41LTQ4IDQ4LTQ4ek00OCAxMjhsODAgMCAwIDY0LTY0IDAgMCAyNTYgMTkyIDAgMC0zMiA2NCAwIDAgNDhjMCAyNi41LTIxLjUgNDgtNDggNDhMNDggNTEyYy0yNi41IDAtNDgtMjEuNS00OC00OEwwIDE3NmMwLTI2LjUgMjEuNS00OCA0OC00OHoiLz48L3N2Zz4=);\n",
              "    background-repeat: no-repeat;\n",
              "    background-size: 14px 14px;\n",
              "    background-position: 0;\n",
              "    display: inline-block;\n",
              "    width: 14px;\n",
              "    height: 14px;\n",
              "    cursor: pointer;\n",
              "}\n",
              "</style><body><div id=\"sk-container-id-15\" class=\"sk-top-container\"><div class=\"sk-text-repr-fallback\"><pre>LogisticRegression(random_state=42)</pre><b>In a Jupyter environment, please rerun this cell to show the HTML representation or trust the notebook. <br />On GitHub, the HTML representation is unable to render, please try loading this page with nbviewer.org.</b></div><div class=\"sk-container\" hidden><div class=\"sk-item\"><div class=\"sk-estimator fitted sk-toggleable\"><input class=\"sk-toggleable__control sk-hidden--visually\" id=\"sk-estimator-id-15\" type=\"checkbox\" checked><label for=\"sk-estimator-id-15\" class=\"sk-toggleable__label fitted sk-toggleable__label-arrow\"><div><div>LogisticRegression</div></div><div><a class=\"sk-estimator-doc-link fitted\" rel=\"noreferrer\" target=\"_blank\" href=\"https://scikit-learn.org/1.7/modules/generated/sklearn.linear_model.LogisticRegression.html\">?<span>Documentation for LogisticRegression</span></a><span class=\"sk-estimator-doc-link fitted\">i<span>Fitted</span></span></div></label><div class=\"sk-toggleable__content fitted\" data-param-prefix=\"\">\n",
              "        <div class=\"estimator-table\">\n",
              "            <details>\n",
              "                <summary>Parameters</summary>\n",
              "                <table class=\"parameters-table\">\n",
              "                  <tbody>\n",
              "                    \n",
              "        <tr class=\"default\">\n",
              "            <td><i class=\"copy-paste-icon\"\n",
              "                 onclick=\"copyToClipboard('penalty',\n",
              "                          this.parentElement.nextElementSibling)\"\n",
              "            ></i></td>\n",
              "            <td class=\"param\">penalty&nbsp;</td>\n",
              "            <td class=\"value\">&#x27;l2&#x27;</td>\n",
              "        </tr>\n",
              "    \n",
              "\n",
              "        <tr class=\"default\">\n",
              "            <td><i class=\"copy-paste-icon\"\n",
              "                 onclick=\"copyToClipboard('dual',\n",
              "                          this.parentElement.nextElementSibling)\"\n",
              "            ></i></td>\n",
              "            <td class=\"param\">dual&nbsp;</td>\n",
              "            <td class=\"value\">False</td>\n",
              "        </tr>\n",
              "    \n",
              "\n",
              "        <tr class=\"default\">\n",
              "            <td><i class=\"copy-paste-icon\"\n",
              "                 onclick=\"copyToClipboard('tol',\n",
              "                          this.parentElement.nextElementSibling)\"\n",
              "            ></i></td>\n",
              "            <td class=\"param\">tol&nbsp;</td>\n",
              "            <td class=\"value\">0.0001</td>\n",
              "        </tr>\n",
              "    \n",
              "\n",
              "        <tr class=\"default\">\n",
              "            <td><i class=\"copy-paste-icon\"\n",
              "                 onclick=\"copyToClipboard('C',\n",
              "                          this.parentElement.nextElementSibling)\"\n",
              "            ></i></td>\n",
              "            <td class=\"param\">C&nbsp;</td>\n",
              "            <td class=\"value\">1.0</td>\n",
              "        </tr>\n",
              "    \n",
              "\n",
              "        <tr class=\"default\">\n",
              "            <td><i class=\"copy-paste-icon\"\n",
              "                 onclick=\"copyToClipboard('fit_intercept',\n",
              "                          this.parentElement.nextElementSibling)\"\n",
              "            ></i></td>\n",
              "            <td class=\"param\">fit_intercept&nbsp;</td>\n",
              "            <td class=\"value\">True</td>\n",
              "        </tr>\n",
              "    \n",
              "\n",
              "        <tr class=\"default\">\n",
              "            <td><i class=\"copy-paste-icon\"\n",
              "                 onclick=\"copyToClipboard('intercept_scaling',\n",
              "                          this.parentElement.nextElementSibling)\"\n",
              "            ></i></td>\n",
              "            <td class=\"param\">intercept_scaling&nbsp;</td>\n",
              "            <td class=\"value\">1</td>\n",
              "        </tr>\n",
              "    \n",
              "\n",
              "        <tr class=\"default\">\n",
              "            <td><i class=\"copy-paste-icon\"\n",
              "                 onclick=\"copyToClipboard('class_weight',\n",
              "                          this.parentElement.nextElementSibling)\"\n",
              "            ></i></td>\n",
              "            <td class=\"param\">class_weight&nbsp;</td>\n",
              "            <td class=\"value\">None</td>\n",
              "        </tr>\n",
              "    \n",
              "\n",
              "        <tr class=\"user-set\">\n",
              "            <td><i class=\"copy-paste-icon\"\n",
              "                 onclick=\"copyToClipboard('random_state',\n",
              "                          this.parentElement.nextElementSibling)\"\n",
              "            ></i></td>\n",
              "            <td class=\"param\">random_state&nbsp;</td>\n",
              "            <td class=\"value\">42</td>\n",
              "        </tr>\n",
              "    \n",
              "\n",
              "        <tr class=\"default\">\n",
              "            <td><i class=\"copy-paste-icon\"\n",
              "                 onclick=\"copyToClipboard('solver',\n",
              "                          this.parentElement.nextElementSibling)\"\n",
              "            ></i></td>\n",
              "            <td class=\"param\">solver&nbsp;</td>\n",
              "            <td class=\"value\">&#x27;lbfgs&#x27;</td>\n",
              "        </tr>\n",
              "    \n",
              "\n",
              "        <tr class=\"default\">\n",
              "            <td><i class=\"copy-paste-icon\"\n",
              "                 onclick=\"copyToClipboard('max_iter',\n",
              "                          this.parentElement.nextElementSibling)\"\n",
              "            ></i></td>\n",
              "            <td class=\"param\">max_iter&nbsp;</td>\n",
              "            <td class=\"value\">100</td>\n",
              "        </tr>\n",
              "    \n",
              "\n",
              "        <tr class=\"default\">\n",
              "            <td><i class=\"copy-paste-icon\"\n",
              "                 onclick=\"copyToClipboard('multi_class',\n",
              "                          this.parentElement.nextElementSibling)\"\n",
              "            ></i></td>\n",
              "            <td class=\"param\">multi_class&nbsp;</td>\n",
              "            <td class=\"value\">&#x27;deprecated&#x27;</td>\n",
              "        </tr>\n",
              "    \n",
              "\n",
              "        <tr class=\"default\">\n",
              "            <td><i class=\"copy-paste-icon\"\n",
              "                 onclick=\"copyToClipboard('verbose',\n",
              "                          this.parentElement.nextElementSibling)\"\n",
              "            ></i></td>\n",
              "            <td class=\"param\">verbose&nbsp;</td>\n",
              "            <td class=\"value\">0</td>\n",
              "        </tr>\n",
              "    \n",
              "\n",
              "        <tr class=\"default\">\n",
              "            <td><i class=\"copy-paste-icon\"\n",
              "                 onclick=\"copyToClipboard('warm_start',\n",
              "                          this.parentElement.nextElementSibling)\"\n",
              "            ></i></td>\n",
              "            <td class=\"param\">warm_start&nbsp;</td>\n",
              "            <td class=\"value\">False</td>\n",
              "        </tr>\n",
              "    \n",
              "\n",
              "        <tr class=\"default\">\n",
              "            <td><i class=\"copy-paste-icon\"\n",
              "                 onclick=\"copyToClipboard('n_jobs',\n",
              "                          this.parentElement.nextElementSibling)\"\n",
              "            ></i></td>\n",
              "            <td class=\"param\">n_jobs&nbsp;</td>\n",
              "            <td class=\"value\">None</td>\n",
              "        </tr>\n",
              "    \n",
              "\n",
              "        <tr class=\"default\">\n",
              "            <td><i class=\"copy-paste-icon\"\n",
              "                 onclick=\"copyToClipboard('l1_ratio',\n",
              "                          this.parentElement.nextElementSibling)\"\n",
              "            ></i></td>\n",
              "            <td class=\"param\">l1_ratio&nbsp;</td>\n",
              "            <td class=\"value\">None</td>\n",
              "        </tr>\n",
              "    \n",
              "                  </tbody>\n",
              "                </table>\n",
              "            </details>\n",
              "        </div>\n",
              "    </div></div></div></div></div><script>function copyToClipboard(text, element) {\n",
              "    // Get the parameter prefix from the closest toggleable content\n",
              "    const toggleableContent = element.closest('.sk-toggleable__content');\n",
              "    const paramPrefix = toggleableContent ? toggleableContent.dataset.paramPrefix : '';\n",
              "    const fullParamName = paramPrefix ? `${paramPrefix}${text}` : text;\n",
              "\n",
              "    const originalStyle = element.style;\n",
              "    const computedStyle = window.getComputedStyle(element);\n",
              "    const originalWidth = computedStyle.width;\n",
              "    const originalHTML = element.innerHTML.replace('Copied!', '');\n",
              "\n",
              "    navigator.clipboard.writeText(fullParamName)\n",
              "        .then(() => {\n",
              "            element.style.width = originalWidth;\n",
              "            element.style.color = 'green';\n",
              "            element.innerHTML = \"Copied!\";\n",
              "\n",
              "            setTimeout(() => {\n",
              "                element.innerHTML = originalHTML;\n",
              "                element.style = originalStyle;\n",
              "            }, 2000);\n",
              "        })\n",
              "        .catch(err => {\n",
              "            console.error('Failed to copy:', err);\n",
              "            element.style.color = 'red';\n",
              "            element.innerHTML = \"Failed!\";\n",
              "            setTimeout(() => {\n",
              "                element.innerHTML = originalHTML;\n",
              "                element.style = originalStyle;\n",
              "            }, 2000);\n",
              "        });\n",
              "    return false;\n",
              "}\n",
              "\n",
              "document.querySelectorAll('.fa-regular.fa-copy').forEach(function(element) {\n",
              "    const toggleableContent = element.closest('.sk-toggleable__content');\n",
              "    const paramPrefix = toggleableContent ? toggleableContent.dataset.paramPrefix : '';\n",
              "    const paramName = element.parentElement.nextElementSibling.textContent.trim();\n",
              "    const fullParamName = paramPrefix ? `${paramPrefix}${paramName}` : paramName;\n",
              "\n",
              "    element.setAttribute('title', fullParamName);\n",
              "});\n",
              "</script></body>"
            ],
            "text/plain": [
              "LogisticRegression(random_state=42)"
            ]
          },
          "execution_count": 280,
          "metadata": {},
          "output_type": "execute_result"
        }
      ],
      "source": [
        "# Обучите логистическую регрессию\n",
        "from sklearn.linear_model import LogisticRegression\n",
        "\n",
        "model = LogisticRegression(random_state=42)\n",
        "model.fit(Xtrain, ytrain)"
      ]
    },
    {
      "cell_type": "markdown",
      "metadata": {
        "id": "a5nWN5OV_eTO"
      },
      "source": [
        "Сделайте предсказания на тренировочных и на тестовых данных."
      ]
    },
    {
      "cell_type": "code",
      "execution_count": 281,
      "metadata": {
        "id": "QzR_npzTj5OC"
      },
      "outputs": [],
      "source": [
        "# Сделайте предсказания\n",
        "ytrain_pred = model.predict(Xtrain)\n",
        "ytest_pred = model.predict(Xtest)"
      ]
    },
    {
      "cell_type": "markdown",
      "metadata": {
        "id": "ZFOiK8N5_oh_"
      },
      "source": [
        "Оцените значение accuracy на трейне и на тесте."
      ]
    },
    {
      "cell_type": "code",
      "execution_count": 282,
      "metadata": {
        "id": "H5wafqpe_tZI"
      },
      "outputs": [
        {
          "name": "stdout",
          "output_type": "stream",
          "text": [
            "Accuracy на трейне: 0.634\n",
            "Accuracy на тесте: 0.577\n"
          ]
        }
      ],
      "source": [
        "# Оцените accuracy\n",
        "from sklearn.metrics import accuracy_score\n",
        "\n",
        "train_accuracy = accuracy_score(ytrain, ytrain_pred)\n",
        "test_accuracy = accuracy_score(ytest, ytest_pred)\n",
        "\n",
        "print(f\"Accuracy на трейне: {train_accuracy:.3f}\")\n",
        "print(f\"Accuracy на тесте: {test_accuracy:.3f}\")"
      ]
    },
    {
      "cell_type": "markdown",
      "metadata": {
        "id": "pEQfWP8h_4hm"
      },
      "source": [
        "Попробуем добавить новых признаков в модель, используя [PolynomialFeatures](https://scikit-learn.org/stable/modules/generated/sklearn.preprocessing.PolynomialFeatures.html).\n",
        "\n",
        "Создайте полиномиальные признаки degree = 2.\n",
        "\n",
        "Как обычно:\n",
        "*  `fit` делайте на тренировочных данных\n",
        "*  `transform` и на тренировочных, и на тестовых данных. Затем верните результат к формату pandas `dataframe`.\n",
        "\n",
        "Полученные матрицы назовите, как и раньше, `Xtrain` и `Xtest`."
      ]
    },
    {
      "cell_type": "code",
      "execution_count": 301,
      "metadata": {},
      "outputs": [
        {
          "data": {
            "text/plain": [
              "29"
            ]
          },
          "execution_count": 301,
          "metadata": {},
          "output_type": "execute_result"
        }
      ],
      "source": [
        "from sklearn.preprocessing import PolynomialFeatures\n",
        "\n",
        "pf = PolynomialFeatures(degree=2, include_bias=True)\n",
        "\n",
        "pf.fit(Xtrain)\n",
        "\n",
        "Xtrain_pf = pf.transform(Xtrain)\n",
        "\n",
        "Xtest_pf = pf.transform(Xtest)\n",
        "\n",
        "cols_pf = pf.get_feature_names_out(Xtrain.columns)\n",
        "\n",
        "Xtrain_pf = pd.DataFrame(Xtrain_pf, columns=cols_pf)\n",
        "\n",
        "Xtest_pf = pd.DataFrame(Xtest_pf, columns=cols_pf)\n",
        "\n",
        "Xtrain_pf.shape[1] - Xtrain.shape[1]"
      ]
    },
    {
      "cell_type": "code",
      "execution_count": 284,
      "metadata": {},
      "outputs": [
        {
          "name": "stdout",
          "output_type": "stream",
          "text": [
            "<class 'pandas.core.frame.DataFrame'>\n",
            "RangeIndex: 1000 entries, 0 to 999\n",
            "Data columns (total 7 columns):\n",
            " #   Column          Non-Null Count  Dtype\n",
            "---  ------          --------------  -----\n",
            " 0   Marital Status  1000 non-null   int64\n",
            " 1   Gender          1000 non-null   int64\n",
            " 2   Income          1000 non-null   int64\n",
            " 3   Children        1000 non-null   int64\n",
            " 4   Home Owner      1000 non-null   int64\n",
            " 5   Cars            1000 non-null   int64\n",
            " 6   Age             1000 non-null   int64\n",
            "dtypes: int64(7)\n",
            "memory usage: 54.8 KB\n",
            "None\n",
            "<class 'pandas.core.frame.DataFrame'>\n",
            "RangeIndex: 700 entries, 0 to 699\n",
            "Data columns (total 35 columns):\n",
            " #   Column                     Non-Null Count  Dtype  \n",
            "---  ------                     --------------  -----  \n",
            " 0   Marital Status             700 non-null    float64\n",
            " 1   Gender                     700 non-null    float64\n",
            " 2   Income                     700 non-null    float64\n",
            " 3   Children                   700 non-null    float64\n",
            " 4   Home Owner                 700 non-null    float64\n",
            " 5   Cars                       700 non-null    float64\n",
            " 6   Age                        700 non-null    float64\n",
            " 7   Marital Status^2           700 non-null    float64\n",
            " 8   Marital Status Gender      700 non-null    float64\n",
            " 9   Marital Status Income      700 non-null    float64\n",
            " 10  Marital Status Children    700 non-null    float64\n",
            " 11  Marital Status Home Owner  700 non-null    float64\n",
            " 12  Marital Status Cars        700 non-null    float64\n",
            " 13  Marital Status Age         700 non-null    float64\n",
            " 14  Gender^2                   700 non-null    float64\n",
            " 15  Gender Income              700 non-null    float64\n",
            " 16  Gender Children            700 non-null    float64\n",
            " 17  Gender Home Owner          700 non-null    float64\n",
            " 18  Gender Cars                700 non-null    float64\n",
            " 19  Gender Age                 700 non-null    float64\n",
            " 20  Income^2                   700 non-null    float64\n",
            " 21  Income Children            700 non-null    float64\n",
            " 22  Income Home Owner          700 non-null    float64\n",
            " 23  Income Cars                700 non-null    float64\n",
            " 24  Income Age                 700 non-null    float64\n",
            " 25  Children^2                 700 non-null    float64\n",
            " 26  Children Home Owner        700 non-null    float64\n",
            " 27  Children Cars              700 non-null    float64\n",
            " 28  Children Age               700 non-null    float64\n",
            " 29  Home Owner^2               700 non-null    float64\n",
            " 30  Home Owner Cars            700 non-null    float64\n",
            " 31  Home Owner Age             700 non-null    float64\n",
            " 32  Cars^2                     700 non-null    float64\n",
            " 33  Cars Age                   700 non-null    float64\n",
            " 34  Age^2                      700 non-null    float64\n",
            "dtypes: float64(35)\n",
            "memory usage: 191.5 KB\n",
            "None\n"
          ]
        }
      ],
      "source": [
        "print(X.info())\n",
        "print(Xtrain.info())"
      ]
    },
    {
      "cell_type": "code",
      "execution_count": 285,
      "metadata": {
        "id": "MzT-Tl5wANZk"
      },
      "outputs": [],
      "source": [
        "from sklearn.preprocessing import PolynomialFeatures\n",
        "\n",
        "poly = PolynomialFeatures(degree=2, include_bias=False)\n",
        "\n",
        "Xtrain_poly = poly.fit_transform(Xtrain)\n",
        "\n",
        "Xtest_poly = poly.transform(Xtest)\n",
        "\n",
        "feature_names = poly.get_feature_names_out(Xtrain.columns)\n",
        "\n",
        "Xtrain = pd.DataFrame(Xtrain_poly, columns=feature_names, index=Xtrain.index)\n",
        "Xtest = pd.DataFrame(Xtest_poly, columns=feature_names, index=Xtest.index)"
      ]
    },
    {
      "cell_type": "code",
      "execution_count": 286,
      "metadata": {},
      "outputs": [
        {
          "name": "stdout",
          "output_type": "stream",
          "text": [
            "     Marital Status  Gender  Income  Children  Home Owner  Cars       Age  \\\n",
            "0               0.0     1.0  0.1875       0.8         1.0  0.50  0.578125   \n",
            "1               1.0     1.0  0.3750       0.4         0.0  0.50  0.375000   \n",
            "2               1.0     1.0  0.1875       0.8         0.0  0.00  0.078125   \n",
            "3               1.0     0.0  0.3125       0.2         1.0  0.00  0.171875   \n",
            "4               1.0     1.0  0.3750       1.0         1.0  0.50  0.281250   \n",
            "..              ...     ...     ...       ...         ...   ...       ...   \n",
            "295             1.0     0.0  0.4375       1.0         1.0  0.75  0.234375   \n",
            "296             1.0     0.0  0.3125       0.2         1.0  0.25  0.312500   \n",
            "297             1.0     1.0  0.6250       0.8         1.0  0.75  0.359375   \n",
            "298             1.0     1.0  0.1875       0.2         1.0  0.00  0.281250   \n",
            "299             0.0     0.0  0.0000       0.8         1.0  0.50  0.250000   \n",
            "\n",
            "     Marital Status^2  Marital Status Gender  Marital Status Income  ...  \\\n",
            "0                 0.0                    0.0                 0.0000  ...   \n",
            "1                 1.0                    1.0                 0.3750  ...   \n",
            "2                 1.0                    1.0                 0.1875  ...   \n",
            "3                 1.0                    0.0                 0.3125  ...   \n",
            "4                 1.0                    1.0                 0.3750  ...   \n",
            "..                ...                    ...                    ...  ...   \n",
            "295               1.0                    0.0                 0.4375  ...   \n",
            "296               1.0                    0.0                 0.3125  ...   \n",
            "297               1.0                    1.0                 0.6250  ...   \n",
            "298               1.0                    1.0                 0.1875  ...   \n",
            "299               0.0                    0.0                 0.0000  ...   \n",
            "\n",
            "     Home Owner Age^2  Home Owner Age Cars^2  Home Owner Age Cars Age  \\\n",
            "0            0.334229               0.144531                 0.167114   \n",
            "1            0.000000               0.000000                 0.000000   \n",
            "2            0.000000               0.000000                 0.000000   \n",
            "3            0.029541               0.000000                 0.000000   \n",
            "4            0.079102               0.070312                 0.039551   \n",
            "..                ...                    ...                      ...   \n",
            "295          0.054932               0.131836                 0.041199   \n",
            "296          0.097656               0.019531                 0.024414   \n",
            "297          0.129150               0.202148                 0.096863   \n",
            "298          0.079102               0.000000                 0.000000   \n",
            "299          0.062500               0.062500                 0.031250   \n",
            "\n",
            "     Home Owner Age Age^2  Cars^2^2  Cars^2 Cars Age  Cars^2 Age^2  \\\n",
            "0                0.193226  0.062500         0.072266      0.083557   \n",
            "1                0.000000  0.062500         0.046875      0.035156   \n",
            "2                0.000000  0.000000         0.000000      0.000000   \n",
            "3                0.005077  0.000000         0.000000      0.000000   \n",
            "4                0.022247  0.062500         0.035156      0.019775   \n",
            "..                    ...       ...              ...           ...   \n",
            "295              0.012875  0.316406         0.098877      0.030899   \n",
            "296              0.030518  0.003906         0.004883      0.006104   \n",
            "297              0.046413  0.316406         0.151611      0.072647   \n",
            "298              0.022247  0.000000         0.000000      0.000000   \n",
            "299              0.015625  0.062500         0.031250      0.015625   \n",
            "\n",
            "     Cars Age^2  Cars Age Age^2   Age^2^2  \n",
            "0      0.083557        0.096613  0.111709  \n",
            "1      0.035156        0.026367  0.019775  \n",
            "2      0.000000        0.000000  0.000037  \n",
            "3      0.000000        0.000000  0.000873  \n",
            "4      0.019775        0.011124  0.006257  \n",
            "..          ...             ...       ...  \n",
            "295    0.030899        0.009656  0.003017  \n",
            "296    0.006104        0.007629  0.009537  \n",
            "297    0.072647        0.034810  0.016680  \n",
            "298    0.000000        0.000000  0.006257  \n",
            "299    0.015625        0.007812  0.003906  \n",
            "\n",
            "[300 rows x 665 columns]\n",
            "     Marital Status  Gender  Income  Children  Home Owner  Cars       Age  \\\n",
            "0               1.0     1.0  0.2500       0.2         1.0  0.00  0.140625   \n",
            "1               0.0     1.0  0.5000       0.0         0.0  0.75  0.140625   \n",
            "2               0.0     1.0  0.1875       0.0         0.0  0.00  0.171875   \n",
            "3               0.0     1.0  0.6250       0.0         0.0  0.75  0.109375   \n",
            "4               1.0     1.0  0.5000       1.0         1.0  0.75  0.250000   \n",
            "..              ...     ...     ...       ...         ...   ...       ...   \n",
            "695             1.0     1.0  0.3750       0.4         1.0  0.50  0.421875   \n",
            "696             0.0     0.0  0.0000       0.4         1.0  0.00  0.406250   \n",
            "697             0.0     1.0  0.1250       0.0         1.0  0.25  0.109375   \n",
            "698             0.0     0.0  0.0000       0.4         0.0  0.25  0.671875   \n",
            "699             1.0     1.0  0.0000       0.4         1.0  0.00  0.375000   \n",
            "\n",
            "     Marital Status^2  Marital Status Gender  Marital Status Income  ...  \\\n",
            "0                 1.0                    1.0                  0.250  ...   \n",
            "1                 0.0                    0.0                  0.000  ...   \n",
            "2                 0.0                    0.0                  0.000  ...   \n",
            "3                 0.0                    0.0                  0.000  ...   \n",
            "4                 1.0                    1.0                  0.500  ...   \n",
            "..                ...                    ...                    ...  ...   \n",
            "695               1.0                    1.0                  0.375  ...   \n",
            "696               0.0                    0.0                  0.000  ...   \n",
            "697               0.0                    0.0                  0.000  ...   \n",
            "698               0.0                    0.0                  0.000  ...   \n",
            "699               1.0                    1.0                  0.000  ...   \n",
            "\n",
            "     Home Owner Age^2  Home Owner Age Cars^2  Home Owner Age Cars Age  \\\n",
            "0            0.019775               0.000000                 0.000000   \n",
            "1            0.000000               0.000000                 0.000000   \n",
            "2            0.000000               0.000000                 0.000000   \n",
            "3            0.000000               0.000000                 0.000000   \n",
            "4            0.062500               0.140625                 0.046875   \n",
            "..                ...                    ...                      ...   \n",
            "695          0.177979               0.105469                 0.088989   \n",
            "696          0.165039               0.000000                 0.000000   \n",
            "697          0.011963               0.006836                 0.002991   \n",
            "698          0.000000               0.000000                 0.000000   \n",
            "699          0.140625               0.000000                 0.000000   \n",
            "\n",
            "     Home Owner Age Age^2  Cars^2^2  Cars^2 Cars Age  Cars^2 Age^2  \\\n",
            "0                0.002781  0.000000         0.000000      0.000000   \n",
            "1                0.000000  0.316406         0.059326      0.011124   \n",
            "2                0.000000  0.000000         0.000000      0.000000   \n",
            "3                0.000000  0.316406         0.046143      0.006729   \n",
            "4                0.015625  0.316406         0.105469      0.035156   \n",
            "..                    ...       ...              ...           ...   \n",
            "695              0.075085  0.062500         0.052734      0.044495   \n",
            "696              0.067047  0.000000         0.000000      0.000000   \n",
            "697              0.001308  0.003906         0.001709      0.000748   \n",
            "698              0.000000  0.003906         0.010498      0.028214   \n",
            "699              0.052734  0.000000         0.000000      0.000000   \n",
            "\n",
            "     Cars Age^2  Cars Age Age^2   Age^2^2  \n",
            "0      0.000000        0.000000  0.000391  \n",
            "1      0.011124        0.002086  0.000391  \n",
            "2      0.000000        0.000000  0.000873  \n",
            "3      0.006729        0.000981  0.000143  \n",
            "4      0.035156        0.011719  0.003906  \n",
            "..          ...             ...       ...  \n",
            "695    0.044495        0.037542  0.031676  \n",
            "696    0.000000        0.000000  0.027238  \n",
            "697    0.000748        0.000327  0.000143  \n",
            "698    0.028214        0.075824  0.203776  \n",
            "699    0.000000        0.000000  0.019775  \n",
            "\n",
            "[700 rows x 665 columns]\n"
          ]
        }
      ],
      "source": [
        "print(Xtest)\n",
        "print(Xtrain)"
      ]
    },
    {
      "cell_type": "code",
      "execution_count": 302,
      "metadata": {},
      "outputs": [
        {
          "name": "stdout",
          "output_type": "stream",
          "text": [
            "Новая размерность тренировочных данных: (700, 7)\n",
            "Новая размерность тестовых данных: (300, 7)\n"
          ]
        }
      ],
      "source": [
        "print(f\"Новая размерность тренировочных данных: {Xtrain.shape}\")\n",
        "print(f\"Новая размерность тестовых данных: {Xtest.shape}\")"
      ]
    },
    {
      "cell_type": "markdown",
      "metadata": {
        "id": "CjGzWJQZA8hM"
      },
      "source": [
        "Заново обучите логистическую регрессию, уже на расширенной матрице признаков, и сделайте предсказания на трейне и тесте, а затем оцените качество (*accuracy*)."
      ]
    },
    {
      "cell_type": "code",
      "execution_count": 312,
      "metadata": {
        "id": "2-HDOPblBEGv"
      },
      "outputs": [],
      "source": [
        "lr_new = LogisticRegression()\n",
        "\n",
        "lr_new.fit(Xtrain, ytrain)\n",
        "\n",
        "prediction_train_new = lr_new.predict(Xtrain)\n",
        "prediction_test_new = lr_new.predict(Xtest)"
      ]
    },
    {
      "cell_type": "markdown",
      "metadata": {
        "id": "QwmRr1GjBSzj"
      },
      "source": [
        "**Вопрос:** на сколько повысилось качество модели на тестовых данных?  \n",
        "Ответ округлите до сотых."
      ]
    },
    {
      "cell_type": "code",
      "execution_count": 313,
      "metadata": {},
      "outputs": [],
      "source": [
        "accuracy_train_new = accuracy_score(ytrain, prediction_train_new)\n",
        "accuracy_test_new = accuracy_score(ytest, prediction_test_new)"
      ]
    },
    {
      "cell_type": "code",
      "execution_count": 314,
      "metadata": {},
      "outputs": [
        {
          "name": "stdout",
          "output_type": "stream",
          "text": [
            "0.6385714285714286\n",
            "0.0033333333333332993\n"
          ]
        }
      ],
      "source": [
        "print(accuracy_train_new)\n",
        "print(accuracy_test_new - test_accuracy)"
      ]
    },
    {
      "cell_type": "markdown",
      "metadata": {
        "id": "N4zMaBDVBeNp"
      },
      "source": [
        "Появились новые требования от заказчика!\n",
        "\n",
        "Заказчик просит, чтобы:\n",
        "*  доля найденных моделью потенциальных покупателей была максимальной\n",
        "*  accuracy при этом была не ниже, чем 0.6 (отклонения *accuracy* на тестовых данных на $\\pm 0.05$ допустимы)."
      ]
    },
    {
      "cell_type": "markdown",
      "metadata": {
        "id": "wI0dQoHdFH84"
      },
      "source": [
        "Сначала посмотрите, какие значения *recall* и *accuracy* имеют предсказния модели на тесте с классами, предсказанными по умолчанию (методом `predict`)."
      ]
    },
    {
      "cell_type": "code",
      "execution_count": 318,
      "metadata": {},
      "outputs": [
        {
          "name": "stdout",
          "output_type": "stream",
          "text": [
            "Accuracy на трейне (полином): 0.646\n",
            "Accuracy на тесте (полином): 0.577\n",
            "Улучшение accuracy на тесте: 0.000\n"
          ]
        }
      ],
      "source": [
        "# Заново обучите логистическую регрессию на расширенной матрице\n",
        "model_poly = LogisticRegression(random_state=42, max_iter=1000)\n",
        "model_poly.fit(Xtrain, ytrain)\n",
        "\n",
        "ytrain_pred_poly = model_poly.predict(Xtrain)\n",
        "ytest_pred_poly = model_poly.predict(Xtest)\n",
        "\n",
        "train_accuracy_poly = accuracy_score(ytrain, ytrain_pred_poly)\n",
        "test_accuracy_poly = accuracy_score(ytest, ytest_pred_poly)\n",
        "\n",
        "print(f\"Accuracy на трейне (полином): {train_accuracy_poly:.3f}\")\n",
        "print(f\"Accuracy на тесте (полином): {test_accuracy_poly:.3f}\")\n",
        "\n",
        "improvement = test_accuracy_poly - test_accuracy\n",
        "print(f\"Улучшение accuracy на тесте: {improvement:.3f}\")"
      ]
    },
    {
      "cell_type": "code",
      "execution_count": null,
      "metadata": {},
      "outputs": [
        {
          "name": "stdout",
          "output_type": "stream",
          "text": [
            "Recall по умолчанию: 0.461\n",
            "Accuracy по умолчанию: 0.577\n"
          ]
        }
      ],
      "source": [
        "# Посмотрите recall и accuracy на тесте с классами по умолчанию\n",
        "from sklearn.metrics import recall_score\n",
        "\n",
        "# Вариант 1: Преобразовать метки в числовые\n",
        "ytest_numeric = (ytest == 'Yes').astype(int)\n",
        "ytest_pred_poly_numeric = (ytest_pred_poly == 'Yes').astype(int)\n",
        "\n",
        "recall_default = recall_score(ytest_numeric, ytest_pred_poly_numeric)\n",
        "accuracy_default = accuracy_score(ytest_numeric, ytest_pred_poly_numeric)\n",
        "\n",
        "print(f\"Recall по умолчанию: {recall_default:.3f}\")\n",
        "print(f\"Accuracy по умолчанию: {accuracy_default:.3f}\")"
      ]
    },
    {
      "cell_type": "code",
      "execution_count": 322,
      "metadata": {},
      "outputs": [],
      "source": [
        "# Разобъем тренировочные данные на трейн и валидацию\n",
        "XtrainS, Xval, ytrainS, yval = train_test_split(Xtrain, ytrain, test_size=0.3, random_state=42)"
      ]
    },
    {
      "cell_type": "code",
      "execution_count": 325,
      "metadata": {},
      "outputs": [],
      "source": [
        "yval = (yval == 'Yes').astype(int)"
      ]
    },
    {
      "cell_type": "code",
      "execution_count": 330,
      "metadata": {},
      "outputs": [
        {
          "name": "stdout",
          "output_type": "stream",
          "text": [
            "Recall на тесте после подбора порога: 0.901\n",
            "Accuracy на тесте после подбора порога: 0.567\n",
            "Использованный порог: 0.30\n"
          ]
        }
      ],
      "source": [
        "BestThr = 0.3  # Это значение будет из предыдущего шага подбора порога\n",
        "\n",
        "model_final = LogisticRegression(random_state=42, max_iter=1000)\n",
        "model_final.fit(Xtrain, ytrain)\n",
        "\n",
        "# Получаем вероятности для положительного класса (класс 1)\n",
        "ytest_proba = model_final.predict_proba(Xtest)[:, 1]\n",
        "\n",
        "# Применяем найденный порог для классификации\n",
        "ytest_pred_final = (ytest_proba >= BestThr).astype(int)\n",
        "\n",
        "# Вычисляем метрики\n",
        "recall_final = recall_score(ytest_numeric, ytest_pred_final)\n",
        "accuracy_final = accuracy_score(ytest_numeric, ytest_pred_final)\n",
        "\n",
        "print(f\"Recall на тесте после подбора порога: {recall_final:.3f}\")\n",
        "print(f\"Accuracy на тесте после подбора порога: {accuracy_final:.3f}\")\n",
        "print(f\"Использованный порог: {BestThr:.2f}\")"
      ]
    },
    {
      "cell_type": "markdown",
      "metadata": {
        "id": "wJPY-nREFFo2"
      },
      "source": [
        "Подберём порог для перевода вероятностей в классы, чтобы оптимизировать требуемые метрики!\n",
        "\n",
        "Разобъем тренировочные данные на трейн и валидацию, чтобы по валидационной части подбирать порог."
      ]
    },
    {
      "cell_type": "code",
      "execution_count": 291,
      "metadata": {
        "id": "p5xH5iBcB4bp"
      },
      "outputs": [
        {
          "data": {
            "text/plain": [
              "((490, 665), (210, 665))"
            ]
          },
          "execution_count": 291,
          "metadata": {},
          "output_type": "execute_result"
        }
      ],
      "source": [
        "XtrainS, Xval, ytrainS, yval = train_test_split(Xtrain, ytrain, test_size=0.3, random_state=42)\n",
        "\n",
        "XtrainS.shape, Xval.shape"
      ]
    },
    {
      "cell_type": "markdown",
      "metadata": {
        "id": "mPY9kf-ajrJS"
      },
      "source": []
    },
    {
      "cell_type": "markdown",
      "metadata": {
        "id": "Qlws70k8CZkb"
      },
      "source": [
        "* Обучите модель на тренировочных данных.\n",
        "* Предскажите вероятности положительного класса на валидационных данных\n",
        "\n",
        "В цикле для каждого значения порога:\n",
        "*  переведите вероятности в классы\n",
        "*  вычислите полноту (на валидационных данных)\n",
        "\n",
        "Выведите на экран:\n",
        "\n",
        "1) значение порога, дающее максимальный *recall*, при условии, что *accuracy* $\\geq$ 0.6.\n",
        "\n",
        "2) значение *recall* при этом пороге\n",
        "\n",
        "3) значение *accuracy* для этого порога\n",
        "\n",
        "\n",
        "Ищите порог на отрезке от 0 до 1 с шагом 0.01."
      ]
    },
    {
      "cell_type": "code",
      "execution_count": 292,
      "metadata": {
        "id": "uh-F1HvvB_74"
      },
      "outputs": [
        {
          "ename": "IndentationError",
          "evalue": "expected an indented block after 'for' statement on line 7 (4228949202.py, line 10)",
          "output_type": "error",
          "traceback": [
            "  \u001b[36mCell\u001b[39m\u001b[36m \u001b[39m\u001b[32mIn[292]\u001b[39m\u001b[32m, line 10\u001b[39m\n\u001b[31m    \u001b[39m\u001b[31mprint(BestThr, RecMax, BestAcc)\u001b[39m\n    ^\n\u001b[31mIndentationError\u001b[39m\u001b[31m:\u001b[39m expected an indented block after 'for' statement on line 7\n"
          ]
        }
      ],
      "source": [
        "from sklearn.metrics import recall_score\n",
        "\n",
        "RecMax = -1\n",
        "BestThr = -1\n",
        "BestAcc = -1\n",
        "\n",
        "for thr in np.arange(0, 1, 0.01):\n",
        "    # ваш код здесь\n",
        "\n",
        "print(BestThr, RecMax, BestAcc)"
      ]
    },
    {
      "cell_type": "markdown",
      "metadata": {
        "id": "bV7RBPJRDsUG"
      },
      "source": [
        "Теперь заново обучите модель на исходных тренировочных данных (`Xtrain`, `ytrain`), предскажите вероятности на тесте и переведите их в классы по найденному порогу."
      ]
    },
    {
      "cell_type": "code",
      "execution_count": null,
      "metadata": {
        "id": "g51hSqzxDrF7"
      },
      "outputs": [],
      "source": [
        "# ваш код здесь"
      ]
    },
    {
      "cell_type": "markdown",
      "metadata": {
        "id": "c8W-zTuUHaNl"
      },
      "source": [
        "**Вопрос:** какое значение *recall* получилось на тестовых данных после подбора порога?  \n",
        "Ответ округлите до десятых."
      ]
    },
    {
      "cell_type": "markdown",
      "metadata": {
        "id": "hnJuS9MxFxCh"
      },
      "source": [
        "При помощи подбора порога удалось сильно увеличить значение *recall*!  \n",
        "Однако, как видно, на тесте не удалось сохранить условие $accuracy \\geq 0.6$ (но в допустимые рамки уложились!)\n",
        "\n",
        "Это свидетельство небольшого переобучения модели. Однако в сухом остатке имеет значительное увеличение полноты, что является приоритетом для заказчика."
      ]
    }
  ],
  "metadata": {
    "colab": {
      "include_colab_link": true,
      "provenance": []
    },
    "kernelspec": {
      "display_name": ".venv",
      "language": "python",
      "name": "python3"
    },
    "language_info": {
      "codemirror_mode": {
        "name": "ipython",
        "version": 3
      },
      "file_extension": ".py",
      "mimetype": "text/x-python",
      "name": "python",
      "nbconvert_exporter": "python",
      "pygments_lexer": "ipython3",
      "version": "3.13.2"
    }
  },
  "nbformat": 4,
  "nbformat_minor": 0
}
